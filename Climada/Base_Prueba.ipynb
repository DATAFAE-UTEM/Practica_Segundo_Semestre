{
 "cells": [
  {
   "cell_type": "markdown",
   "metadata": {},
   "source": [
    "# Impact Data functionalities\n",
    "\n",
    "\n",
    "Import data from EM-DAT CSV file and populate Impact()-object with the data.\n",
    "\n",
    "\n",
    "The core functionality of the module is to read disaster impact data as downloaded from the International Disaster Database EM-DAT (www.emdat.be) and produce a CLIMADA Impact()-instance from it.\n",
    "The purpose is to make impact data easily available for comparison with simulated impact inside CLIMADA, e.g. for calibration purposes.\n",
    "\n",
    "\n",
    "## Data Source\n",
    "The International Disaster Database EM-DAT www.emdat.be\n",
    "\n",
    "Download: https://public.emdat.be/ (register for free and download data to continue)\n",
    "\n",
    "\n",
    "## Most important functions\n",
    "- clean_emdat_df: read CSV from EM-DAT into a DataFrame and clean up.\n",
    "- emdat_to_impact: create Impact-instance populated with impact data from EM-DAT data (CSV).\n",
    "- emdat_countries_by_hazard: get list of countries affected by a certain haazrd (disaster (sub-)type) in EM-DAT.\n",
    "- emdat_impact_yearlysum: create DataFrame with impact from EM-DAT summed per country and year.\n",
    "\n",
    "\n",
    "\n",
    "## Demo data\n",
    "\n",
    "The demo data used hee (demo_emdat_impact_data_2020.csv) contains entries for the disaster subtype \"Tropical cyclone\" from 2000 to 2020.\n"
   ]
  },
  {
   "cell_type": "code",
   "execution_count": 1,
   "metadata": {},
   "outputs": [
    {
     "name": "stdout",
     "output_type": "stream",
     "text": [
      "C:\\Users\\felip\\climada_python\\data\\demo\\Las_Resport111.csv\n"
     ]
    }
   ],
   "source": [
    "\"\"\"Load required packages and set path to CSV-file from EM-DAT\"\"\"\n",
    "\n",
    "import numpy as np\n",
    "import pandas as pd\n",
    "from matplotlib import pyplot as plt\n",
    "\n",
    "from climada.util.constants import DEMO_DIR\n",
    "from climada.engine.impact_data import emdat_countries_by_hazard, \\\n",
    "    emdat_impact_yearlysum, emdat_to_impact, clean_emdat_df\n",
    "\n",
    "# set path to CSV file downloaded from https://public.emdat.be :\n",
    "emdat_file_path = 'C:\\\\Users\\\\felip\\\\climada_python\\\\data\\\\demo\\\\Las_Resport111.csv'\n",
    "print(emdat_file_path)"
   ]
  },
  {
   "cell_type": "markdown",
   "metadata": {},
   "source": [
    "### clean_emdat_df()\n",
    "read CSV from EM-DAT into a DataFrame and clean up.\n",
    "\n",
    "Use the parameters countries, hazard, and year_range to filter. These parameters are the same for most functions shown here."
   ]
  },
  {
   "cell_type": "code",
   "execution_count": 2,
   "metadata": {},
   "outputs": [
    {
     "name": "stdout",
     "output_type": "stream",
     "text": [
      "          Dis No  Year  Seq  Disaster Group Disaster Subgroup Disaster Type  \\\n",
      "0  2005-0321-CHL  2005  321             NaN           Natural   Geophysical   \n",
      "1  2007-0158-CHL  2007  158             NaN           Natural   Geophysical   \n",
      "2  2007-0587-CHL  2007  587             NaN           Natural   Geophysical   \n",
      "3  2010-0091-CHL  2010   91             NaN           Natural   Geophysical   \n",
      "4  2012-0126-CHL  2012  126             NaN           Natural   Geophysical   \n",
      "5  2014-0094-CHL  2014   94             NaN           Natural   Geophysical   \n",
      "6  2015-0435-CHL  2015  435             NaN           Natural   Geophysical   \n",
      "7  2019-0023-CHL  2019   23             NaN           Natural   Geophysical   \n",
      "\n",
      "  Disaster Subtype Disaster Subsubtype  Event Name  Entry Criteria  ...  \\\n",
      "0       Earthquake     Ground movement         NaN             NaN  ...   \n",
      "1       Earthquake             Tsunami         NaN             NaN  ...   \n",
      "2       Earthquake     Ground movement         NaN             NaN  ...   \n",
      "3       Earthquake             Tsunami         NaN             NaN  ...   \n",
      "4       Earthquake     Ground movement         NaN             NaN  ...   \n",
      "5       Earthquake     Ground movement         NaN             NaN  ...   \n",
      "6       Earthquake             Tsunami         NaN             NaN  ...   \n",
      "7       Earthquake     Ground movement         NaN             NaN  ...   \n",
      "\n",
      "  End Day Total Deaths No Injured No Affected No Homeless Total Affected  \\\n",
      "0      13           11      182.0     27463.0         NaN        27645.0   \n",
      "1      21           10        NaN         NaN         NaN            NaN   \n",
      "2      14            2      155.0     25000.0         NaN        25155.0   \n",
      "3      27          562    10334.0   1861222.0    800000.0      2671556.0   \n",
      "4      25            1       14.0     24283.0         NaN        24297.0   \n",
      "5       1            6        NaN    513387.0         NaN       513387.0   \n",
      "6      16           19       15.0    681484.0         NaN       681499.0   \n",
      "7      19            2        NaN       780.0         NaN          780.0   \n",
      "\n",
      "  Reconstruction Costs ('000 US$) Insured Damages ('000 US$)  \\\n",
      "0                             NaN                    40000.0   \n",
      "1                             NaN                        NaN   \n",
      "2                             NaN                        NaN   \n",
      "3                             NaN                  8000000.0   \n",
      "4                             NaN                        NaN   \n",
      "5                             NaN                        NaN   \n",
      "6                             NaN                   350000.0   \n",
      "7                             NaN                        NaN   \n",
      "\n",
      "  Total Damages ('000 US$)                  CPI  \n",
      "0                   5000.0  754.571.995.838.645  \n",
      "1                      NaN  801.133.932.627.075  \n",
      "2                 100000.0  801.133.932.627.075  \n",
      "3               30000000.0  842.527.327.208.522  \n",
      "4                 100000.0  887.109.689.803.215  \n",
      "5                 100000.0  914.706.140.929.272  \n",
      "6                 800000.0  915.791.170.307.852  \n",
      "7                      NaN  987.814.482.687.884  \n",
      "\n",
      "[8 rows x 43 columns]\n"
     ]
    },
    {
     "data": {
      "text/plain": [
       "Dis No                              object\n",
       "Year                                 int64\n",
       "Seq                                  int64\n",
       "Disaster Group                     float64\n",
       "Disaster Subgroup                   object\n",
       "Disaster Type                       object\n",
       "Disaster Subtype                    object\n",
       "Disaster Subsubtype                 object\n",
       "Event Name                         float64\n",
       "Entry Criteria                     float64\n",
       "Country                             object\n",
       "ISO                                 object\n",
       "Region                              object\n",
       "Continent                           object\n",
       "Location                            object\n",
       "Origin                              object\n",
       "Associated Dis                      object\n",
       "Associated Dis2                     object\n",
       "OFDA Response                       object\n",
       "Appeal                              object\n",
       "Declaration                         object\n",
       "Aid Contribution                   float64\n",
       "Dis Mag Value                        int64\n",
       "Dis Mag Scale                       object\n",
       "Latitude                           float64\n",
       "Longitude                          float64\n",
       "Local Time                          object\n",
       "River Basin                        float64\n",
       "Start Year                           int64\n",
       "Start Month                          int64\n",
       "Start Day                            int64\n",
       "End Year                             int64\n",
       "End Month                            int64\n",
       "End Day                              int64\n",
       "Total Deaths                         int64\n",
       "No Injured                         float64\n",
       "No Affected                        float64\n",
       "No Homeless                        float64\n",
       "Total Affected                     float64\n",
       "Reconstruction Costs ('000 US$)    float64\n",
       "Insured Damages ('000 US$)         float64\n",
       "Total Damages ('000 US$)           float64\n",
       "CPI                                 object\n",
       "dtype: object"
      ]
     },
     "execution_count": 2,
     "metadata": {},
     "output_type": "execute_result"
    }
   ],
   "source": [
    "\"\"\"Create DataFrame df with EM-DAT entries of tropical cyclones in Thailand and Viet Nam in the years 2005 and 2006\"\"\"\n",
    "\n",
    "df = clean_emdat_df(emdat_file_path, countries=['CHL', 'Chile'], hazard=['Earthquake'], \\\n",
    "                            year_range=[2000, 2021])\n",
    "print(df)\n",
    "df.dtypes"
   ]
  },
  {
   "cell_type": "markdown",
   "metadata": {},
   "source": [
    "### emdat_countries_by_hazard()\n",
    "\n",
    "Pick a hazard and a year range to get a list of countries affected from the EM-DAT data."
   ]
  },
  {
   "cell_type": "code",
   "execution_count": 3,
   "metadata": {},
   "outputs": [
    {
     "name": "stdout",
     "output_type": "stream",
     "text": [
      "['Chile']\n",
      "['CHL']\n"
     ]
    }
   ],
   "source": [
    "\"\"\"emdat_countries_by_hazard: get lists of countries impacted by tropical cyclones from 2010 to 2019\"\"\"\n",
    "\n",
    "iso3_codes, country_names = emdat_countries_by_hazard(emdat_file_path, hazard='Earthquake', year_range=(2000, 2021))\n",
    "\n",
    "print(country_names)\n",
    "\n",
    "print(iso3_codes)"
   ]
  },
  {
   "cell_type": "markdown",
   "metadata": {},
   "source": [
    "### emdat_to_impact()\n",
    "function to load EM-DAT impact data and return impact set with impact per event\n",
    "\n",
    "##### Parameters:\n",
    "- emdat_file_csv (str): Full path to EMDAT-file (CSV)\n",
    "- hazard_type_climada (str): Hazard type abbreviation used in CLIMADA, e.g. 'TC'\n",
    "\n",
    "##### Optional parameters:\n",
    "\n",
    "- hazard_type_emdat (list or str): List of Disaster (sub-)type accordung EMDAT terminology or CLIMADA hazard type abbreviations. e.g. ['Wildfire', 'Forest fire'] or ['BF']\n",
    "- year_range (list with 2 integers): start and end year e.g. [1980, 2017]\n",
    "- countries (list of str): country ISO3-codes or names, e.g. ['JAM', 'CUB']. Set to None or ['all'] for all countries \n",
    "- reference_year (int): reference year of exposures for normalization. Impact is scaled proportional to GDP to the value of the reference year. No scaling for reference_year=0 (default)\n",
    "- imp_str (str): Column name of impact metric in EMDAT CSV, e.g. 'Total Affected'; default = \"Total Damages\"\n",
    "\n",
    "##### Returns:\n",
    "- impact_instance (instance of climada.engine.Impact):\n",
    "            Impact() instance (same format as output from CLIMADA impact computations).\n",
    "            Values are scaled with GDP to reference_year if reference_year not equal 0.\n",
    "            impact_instance.eai_exp holds expected annual impact for each country.\n",
    "            impact_instance.coord_exp holds rough central coordinates for each country.\n",
    "- countries (list): ISO3-codes of countries imn same order as in impact_instance.eai_exp\n"
   ]
  },
  {
   "cell_type": "code",
   "execution_count": 4,
   "metadata": {},
   "outputs": [
    {
     "name": "stdout",
     "output_type": "stream",
     "text": [
      "Number of Earthquake events in EM-DAT 2000 to 2021 globally: 8\n",
      "Global annual average monetary damage (AAI) from Earthquakes as reported in EM-DAT 2000 to 2021: USD billion 1.41\n"
     ]
    }
   ],
   "source": [
    "\"\"\"Global Earthquake damages 2000 to 2021\"\"\"\n",
    "\n",
    "impact_emdat, countries = emdat_to_impact(emdat_file_path, 'Earthquake', year_range=(2000,2021))\n",
    "\n",
    "print('Number of Earthquake events in EM-DAT 2000 to 2021 globally: %i' %(impact_emdat.event_id.size))\n",
    "print('Global annual average monetary damage (AAI) from Earthquakes as reported in EM-DAT 2000 to 2021: USD billion %2.2f' \\\n",
    "      %(impact_emdat.aai_agg/1e9))\n"
   ]
  },
  {
   "cell_type": "code",
   "execution_count": 5,
   "metadata": {},
   "outputs": [
    {
     "name": "stdout",
     "output_type": "stream",
     "text": [
      "Number of Earthquake events in EM-DAT in Chile, 2010: 1\n",
      "\n",
      "People affected by Earthquake events in Chile in 2010 (per event):\n",
      "[2671556.]\n",
      "\n",
      "People affected by Earthquake events in Chile in 2010 (total):\n",
      "2671556\n"
     ]
    },
    {
     "data": {
      "text/plain": [
       "Text(0, 0.5, 'People Affected')"
      ]
     },
     "execution_count": 5,
     "metadata": {},
     "output_type": "execute_result"
    },
    {
     "data": {
      "image/png": "[encoded data removed]",
      "text/plain": [
       "<Figure size 432x288 with 1 Axes>"
      ]
     },
     "metadata": {
      "needs_background": "light"
     },
     "output_type": "display_data"
    }
   ],
   "source": [
    "\"\"\"Total people affected by Earthquake in the Chile in 2010:\"\"\"\n",
    "\n",
    "# People affected\n",
    "impact_emdat_PHL, countries = emdat_to_impact(emdat_file_path, 'Earthquake', countries='CHL', \\\n",
    "                                    year_range=(2010,2010), imp_str=\"Total Affected\")\n",
    "\n",
    "print('Number of Earthquake events in EM-DAT in Chile, 2010: %i' \\\n",
    "      %(impact_emdat_PHL.event_id.size))\n",
    "print('\\nPeople affected by Earthquake events in Chile in 2010 (per event):')\n",
    "print(impact_emdat_PHL.at_event)\n",
    "print('\\nPeople affected by Earthquake events in Chile in 2010 (total):')\n",
    "print(int(impact_emdat_PHL.aai_agg))\n",
    "\n",
    "# Comparison to monetary damages:\n",
    "impact_emdat_PHL_USD, _ = emdat_to_impact(emdat_file_path, 'Earthquake', countries='CHL', \\\n",
    "                                    year_range=(2010,2010))\n",
    "\n",
    "ax = plt.scatter(impact_emdat_PHL_USD.at_event, impact_emdat_PHL.at_event)\n",
    "plt.title('Earthquake impacts in Chile, 2010')\n",
    "plt.xlabel('Total Damage [USD]')\n",
    "plt.ylabel('People Affected')\n",
    "#plt.xscale('log')\n",
    "#plt.yscale('log')"
   ]
  },
  {
   "cell_type": "markdown",
   "metadata": {},
   "source": [
    "### emdat_impact_yearlysum()\n",
    "\n",
    "function to load EM-DAT impact data and return DataFrame with impact summed per year and country\n",
    "\n",
    "##### Parameters:\n",
    "- emdat_file_csv (str): Full path to EMDAT-file (CSV)\n",
    "\n",
    "##### Optional parameters:\n",
    "\n",
    "- hazard (list or str): List of Disaster (sub-)type accordung EMDAT terminology or CLIMADA hazard type abbreviations. e.g. ['Wildfire', 'Forest fire'] or ['BF']\n",
    "- year_range (list with 2 integers): start and end year e.g. [1980, 2017]\n",
    "- countries (list of str): country ISO3-codes or names, e.g. ['JAM', 'CUB']. Set to None or ['all'] for all countries \n",
    "- reference_year (int): reference year of exposures for normalization. Impact is scaled proportional to GDP to the value of the reference year. No scaling for reference_year=0 (default)\n",
    "- imp_str (str): Column name of impact metric in EMDAT CSV, e.g. 'Total Affected'; default = \"Total Damages\"\n",
    "- version (int): given EM-DAT data format version (i.e. year of download), changes naming of columns/variables (default: 2020)\n",
    "\n",
    "##### Returns:\n",
    "- pandas.DataFrame with impact per year and country"
   ]
  },
  {
   "cell_type": "code",
   "execution_count": 6,
   "metadata": {},
   "outputs": [
    {
     "name": "stdout",
     "output_type": "stream",
     "text": [
      "2021-10-06 09:10:34,079 - climada.util.finance - INFO - GDP CHL 2019: 2.794e+11.\n",
      "[2005 2007 2010 2012 2014 2015 2019]\n",
      "2021-10-06 09:10:34,742 - climada.util.finance - INFO - GDP CHL 2005: 1.230e+11.\n",
      "2021-10-06 09:10:35,420 - climada.util.finance - INFO - GDP CHL 2007: 1.736e+11.\n",
      "2021-10-06 09:10:36,059 - climada.util.finance - INFO - GDP CHL 2010: 2.185e+11.\n",
      "2021-10-06 09:10:36,714 - climada.util.finance - INFO - GDP CHL 2012: 2.671e+11.\n",
      "2021-10-06 09:10:37,387 - climada.util.finance - INFO - GDP CHL 2014: 2.605e+11.\n",
      "2021-10-06 09:10:38,031 - climada.util.finance - INFO - GDP CHL 2015: 2.439e+11.\n",
      "2021-10-06 09:10:38,686 - climada.util.finance - INFO - GDP CHL 2019: 2.794e+11.\n"
     ]
    },
    {
     "data": {
      "text/plain": [
       "Text(0, 0.5, 'Total Damage [USD]')"
      ]
     },
     "execution_count": 6,
     "metadata": {},
     "output_type": "execute_result"
    },
    {
     "data": {
      "image/png": "[encoded data removed]",
      "text/plain": [
       "<Figure size 432x288 with 1 Axes>"
      ]
     },
     "metadata": {
      "needs_background": "light"
     },
     "output_type": "display_data"
    }
   ],
   "source": [
    "\"\"\"Yearly Earthquake damages in the CHILE, normalized and current\"\"\"\n",
    "\n",
    "yearly_damage_normalized_to_2019 = emdat_impact_yearlysum(emdat_file_path, countries='CHL', \\\n",
    "                                                       hazard='Earthquake', year_range=None, \\\n",
    "                                                       reference_year=2019)\n",
    "\n",
    "yearly_damage_current = emdat_impact_yearlysum(emdat_file_path, countries=['CHL'], hazard='Earthquake',)\n",
    "\n",
    "import matplotlib.pyplot as plt\n",
    "\n",
    "fig, axis = plt.subplots(1, 1)\n",
    "axis.plot(yearly_damage_current.year, yearly_damage_current.impact, 'b', label='USD current value')\n",
    "axis.plot(yearly_damage_normalized_to_2019.year, yearly_damage_normalized_to_2019.impact_scaled, \\\n",
    "          'r--', label='USD normalized to 2019')\n",
    "plt.legend()\n",
    "axis.set_title('Earthquake damage reported in EM-DAT in the Chile')\n",
    "axis.set_xticks([2000, 2004, 2008, 2012, 2016])\n",
    "axis.set_xlabel('year')\n",
    "axis.set_ylabel('Total Damage [USD]')\n"
   ]
  },
  {
   "cell_type": "code",
   "execution_count": null,
   "metadata": {},
   "outputs": [],
   "source": []
  }
 ],
 "metadata": {
  "kernelspec": {
   "display_name": "Climada_env",
   "language": "python",
   "name": "climada_env"
  },
  "language_info": {
   "codemirror_mode": {
    "name": "ipython",
    "version": 3
   },
   "file_extension": ".py",
   "mimetype": "text/x-python",
   "name": "python",
   "nbconvert_exporter": "python",
   "pygments_lexer": "ipython3",
   "version": "3.8.11"
  }
 },
 "nbformat": 4,
 "nbformat_minor": 2
}
