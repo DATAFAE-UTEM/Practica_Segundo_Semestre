{
 "cells": [
  {
   "cell_type": "markdown",
   "metadata": {},
   "source": [
    "# Ejemplo de uso climada\n",
    "\n",
    "\n",
    "La data para este ejemplo fue obtenida desde la base de datos internacional de desastres EM-DAT (www.emdat.be) y adaptada para la versión de climada. Esta base de datos contiene los distintos eventos ocurridos en chile desde 1906.\n",
    "\n",
    "\n",
    "## Fuente de Datos\n",
    "\n",
    "International Disaster Database EM-DAT www.emdat.be\n",
    "\n",
    "Download: https://public.emdat.be/\n",
    "\n",
    "Número de registros: 143\n",
    "\n",
    "##Funciones Importantesunctions\n",
    "- clean_emdat_df: Lee CSV desde EM-DAT, limia el dataframe y lo carga.\n",
    "- emdat_to_impact: Crea una instancia por impacto desde EM-DAT.\n",
    "- emdat_countries_by_hazard: Obtiene lista de paises afectados por un tipo de evento (disaster (sub-)type) en EM-DAT.\n",
    "- emdat_impact_yearlysum: crea un dataframe con el impacto sumado por país y por año\n",
    "\n",
    "\n",
    "## Demo data\n",
    "\n",
    "la data utilizada (demo_emdat_impact_data_chile.csv) contiene diversos tipos de eventos: terremotos, inundaciones, sequias, entre otros."
   ]
  },
  {
   "cell_type": "code",
   "execution_count": 4,
   "metadata": {},
   "outputs": [],
   "source": [
    "import sys\n",
    "sys.path.append('/Users/jm/Documents/UTEM/climada/climada_python-2.1.1')"
   ]
  },
  {
   "cell_type": "code",
   "execution_count": 16,
   "metadata": {},
   "outputs": [
    {
     "name": "stdout",
     "output_type": "stream",
     "text": [
      "/Users/jm/Documents/UTEM/climada/data/demo_emdat_impact_data_chile.csv\n"
     ]
    }
   ],
   "source": [
    "\"\"\"Load required packages and set path to CSV-file from EM-DAT\"\"\"\n",
    "\n",
    "import numpy as np\n",
    "import pandas as pd\n",
    "from matplotlib import pyplot as plt\n",
    "\n",
    "from climada.util.constants import DEMO_DIR\n",
    "from climada.engine.impact_data import emdat_countries_by_hazard, \\\n",
    "    emdat_impact_yearlysum, emdat_to_impact, clean_emdat_df\n",
    "\n",
    "#emdat_file_path = DEMO_DIR.joinpath('demo_emdat_impact_data_2020.csv')\n",
    "emdat_file_path = '/Users/jm/Documents/UTEM/climada/data/demo_emdat_impact_data_chile.csv'\n",
    "print(emdat_file_path)"
   ]
  },
  {
   "cell_type": "markdown",
   "metadata": {},
   "source": [
    "### clean_emdat_df()\n"
   ]
  },
  {
   "cell_type": "code",
   "execution_count": 18,
   "metadata": {},
   "outputs": [
    {
     "name": "stdout",
     "output_type": "stream",
     "text": [
      "           Dis No  Year  Seq Disaster Group Disaster Subgroup Disaster Type  \\\n",
      "0   1906-0014-CHL  1906   14        Natural       Geophysical    Earthquake   \n",
      "1   1922-0001-CHL  1922    1        Natural       Geophysical    Earthquake   \n",
      "2   1928-0003-CHL  1928    3        Natural       Geophysical    Earthquake   \n",
      "3   1939-0001-CHL  1939    1        Natural       Geophysical    Earthquake   \n",
      "4   1943-0010-CHL  1943   10        Natural       Geophysical    Earthquake   \n",
      "5   1946-0013-CHL  1946   13        Natural       Geophysical    Earthquake   \n",
      "6   1949-0005-CHL  1949    5        Natural       Geophysical    Earthquake   \n",
      "7   1949-0015-CHL  1949   15        Natural       Geophysical    Earthquake   \n",
      "8   1953-0012-CHL  1953   12        Natural       Geophysical    Earthquake   \n",
      "9   1953-0021-CHL  1953   21        Natural       Geophysical    Earthquake   \n",
      "10  1958-0010-CHL  1958   10        Natural       Geophysical    Earthquake   \n",
      "11  1960-0013-CHL  1960   13        Natural       Geophysical    Earthquake   \n",
      "12  1965-0016-CHL  1965   16        Natural       Geophysical    Earthquake   \n",
      "13  1966-0090-CHL  1966   90        Natural       Geophysical    Earthquake   \n",
      "14  1971-0042-CHL  1971   42        Natural       Geophysical    Earthquake   \n",
      "15  1983-0127-CHL  1983  127        Natural       Geophysical    Earthquake   \n",
      "16  1985-0041-CHL  1985   41        Natural       Geophysical    Earthquake   \n",
      "17  1987-0144-CHL  1987  144        Natural       Geophysical    Earthquake   \n",
      "18  1995-0171-CHL  1995  171        Natural       Geophysical    Earthquake   \n",
      "19  1997-0247-CHL  1997  247        Natural       Geophysical    Earthquake   \n",
      "20  2005-0321-CHL  2005  321        Natural       Geophysical    Earthquake   \n",
      "21  2007-0158-CHL  2007  158        Natural       Geophysical    Earthquake   \n",
      "22  2007-0587-CHL  2007  587        Natural       Geophysical    Earthquake   \n",
      "23  2010-0091-CHL  2010   91        Natural       Geophysical    Earthquake   \n",
      "24  2012-0126-CHL  2012  126        Natural       Geophysical    Earthquake   \n",
      "25  2014-0094-CHL  2014   94        Natural       Geophysical    Earthquake   \n",
      "26  2015-0435-CHL  2015  435        Natural       Geophysical    Earthquake   \n",
      "27  2019-0023-CHL  2019   23        Natural       Geophysical    Earthquake   \n",
      "\n",
      "   Disaster Subtype Disaster Subsubtype Event Name  Entry Criteria  ...  \\\n",
      "0   Ground movement                 NaN        NaN             NaN  ...   \n",
      "1   Ground movement                 NaN        NaN             NaN  ...   \n",
      "2   Ground movement                 NaN        NaN             NaN  ...   \n",
      "3   Ground movement                 NaN        NaN             NaN  ...   \n",
      "4   Ground movement                 NaN        NaN             NaN  ...   \n",
      "5   Ground movement                 NaN        NaN             NaN  ...   \n",
      "6   Ground movement                 NaN        NaN             NaN  ...   \n",
      "7   Ground movement                 NaN        NaN             NaN  ...   \n",
      "8   Ground movement                 NaN        NaN             NaN  ...   \n",
      "9   Ground movement                 NaN        NaN             NaN  ...   \n",
      "10  Ground movement                 NaN        NaN             NaN  ...   \n",
      "11          Tsunami                 NaN        NaN             NaN  ...   \n",
      "12  Ground movement                 NaN        NaN             NaN  ...   \n",
      "13  Ground movement                 NaN        NaN             NaN  ...   \n",
      "14  Ground movement                 NaN        NaN             NaN  ...   \n",
      "15  Ground movement                 NaN        NaN             NaN  ...   \n",
      "16  Ground movement                 NaN        NaN             NaN  ...   \n",
      "17  Ground movement                 NaN        NaN             NaN  ...   \n",
      "18  Ground movement                 NaN        NaN             NaN  ...   \n",
      "19  Ground movement                 NaN        NaN             NaN  ...   \n",
      "20  Ground movement                 NaN        NaN             NaN  ...   \n",
      "21          Tsunami                 NaN        NaN             NaN  ...   \n",
      "22  Ground movement                 NaN        NaN             NaN  ...   \n",
      "23          Tsunami                 NaN        NaN             NaN  ...   \n",
      "24  Ground movement                 NaN        NaN             NaN  ...   \n",
      "25  Ground movement                 NaN        NaN             NaN  ...   \n",
      "26          Tsunami                 NaN        NaN             NaN  ...   \n",
      "27  Ground movement                 NaN        NaN             NaN  ...   \n",
      "\n",
      "   End Day Total Deaths No Injured No Affected No Homeless Total Affected  \\\n",
      "0     16.0      20000.0        NaN         NaN         NaN            NaN   \n",
      "1     11.0       1000.0        NaN         NaN         NaN            NaN   \n",
      "2      NaN        220.0        NaN         NaN         NaN            NaN   \n",
      "3     24.0      30000.0    58500.0         NaN         NaN        58500.0   \n",
      "4      6.0         12.0       35.0         NaN         NaN           35.0   \n",
      "5      2.0          2.0        NaN         NaN         NaN            NaN   \n",
      "6     19.0         35.0      155.0         NaN         NaN          155.0   \n",
      "7     17.0          6.0       18.0         NaN         NaN           18.0   \n",
      "8      6.0         12.0       40.0         NaN         NaN           40.0   \n",
      "9      6.0          3.0       15.0         NaN         NaN           15.0   \n",
      "10     NaN          NaN       35.0         NaN         NaN           35.0   \n",
      "11    22.0       6000.0     3000.0   2000000.0         NaN      2003000.0   \n",
      "12    28.0        400.0      350.0     20000.0         NaN        20350.0   \n",
      "13    28.0          4.0        6.0      3000.0         NaN         3006.0   \n",
      "14     9.0         85.0      451.0   2348522.0         NaN      2348973.0   \n",
      "15     4.0          4.0       24.0      1500.0         NaN         1524.0   \n",
      "16     3.0        180.0     2483.0    979792.0    500000.0      1482275.0   \n",
      "17     8.0          5.0      112.0         NaN      5000.0         5112.0   \n",
      "18    30.0          3.0       58.0      1200.0       575.0         1833.0   \n",
      "19    14.0          8.0       98.0     40000.0     13000.0        53098.0   \n",
      "20    13.0         11.0      182.0     27463.0         NaN        27645.0   \n",
      "21    21.0         10.0        NaN         NaN         NaN            NaN   \n",
      "22    14.0          2.0      155.0     25000.0         NaN        25155.0   \n",
      "23    27.0        562.0    10334.0   1861222.0    800000.0      2671556.0   \n",
      "24    25.0          1.0       14.0     24283.0         NaN        24297.0   \n",
      "25     1.0          6.0        NaN    513387.0         NaN       513387.0   \n",
      "26    16.0         19.0       15.0    681484.0         NaN       681499.0   \n",
      "27    19.0          2.0        NaN       780.0         NaN          780.0   \n",
      "\n",
      "   Reconstruction Costs ('000 US$) Insured Damages ('000 US$)  \\\n",
      "0                              NaN                        NaN   \n",
      "1                              NaN                        NaN   \n",
      "2                              NaN                        NaN   \n",
      "3                              NaN                        NaN   \n",
      "4                              NaN                        NaN   \n",
      "5                              NaN                        NaN   \n",
      "6                              NaN                        NaN   \n",
      "7                              NaN                        NaN   \n",
      "8                              NaN                        NaN   \n",
      "9                              NaN                        NaN   \n",
      "10                             NaN                        NaN   \n",
      "11                             NaN                        NaN   \n",
      "12                             NaN                        NaN   \n",
      "13                             NaN                        NaN   \n",
      "14                             NaN                        NaN   \n",
      "15                             NaN                        NaN   \n",
      "16                             NaN                    90000.0   \n",
      "17                             NaN                        NaN   \n",
      "18                             NaN                        NaN   \n",
      "19                             NaN                        NaN   \n",
      "20                             NaN                    40000.0   \n",
      "21                             NaN                        NaN   \n",
      "22                             NaN                        NaN   \n",
      "23                             NaN                  8000000.0   \n",
      "24                             NaN                        NaN   \n",
      "25                             NaN                        NaN   \n",
      "26                             NaN                   350000.0   \n",
      "27                             NaN                        NaN   \n",
      "\n",
      "   Total Damages ('000 US$)          CPI  \n",
      "0                  100000.0  3,522300102  \n",
      "1                       NaN  6,561914634  \n",
      "2                       NaN  6,731506861  \n",
      "3                  920000.0   5,45304238  \n",
      "4                  100000.0  6,783689085  \n",
      "5                       NaN  7,644695777  \n",
      "6                   39000.0  9,327572492  \n",
      "7                    5200.0  9,327572492  \n",
      "8                  500000.0  10,48862697  \n",
      "9                    7310.0  10,48862697  \n",
      "10                  10100.0  11,28789241  \n",
      "11                 550000.0  11,56821608  \n",
      "12                 125000.0  12,32443267  \n",
      "13                    400.0  12,69602817  \n",
      "14                 236400.0  15,83825463  \n",
      "15                   1000.0   38,9583793  \n",
      "16                1500000.0  42,07452677  \n",
      "17                   1000.0  44,44423842  \n",
      "18                   1660.0  59,60449489  \n",
      "19                  48000.0   62,7858352  \n",
      "20                   5000.0  76,38802721  \n",
      "21                      NaN  81,10165893  \n",
      "22                 100000.0  81,10165893  \n",
      "23               30000000.0   85,2920606  \n",
      "24                 100000.0  89,80529293  \n",
      "25                 100000.0  92,59898057  \n",
      "26                 800000.0  92,70882199  \n",
      "27                      NaN          100  \n",
      "\n",
      "[28 rows x 43 columns]\n"
     ]
    }
   ],
   "source": [
    "df = clean_emdat_df(emdat_file_path, countries=['Chile'], hazard=['Earthquake'], \\\n",
    "                            year_range=[1906, 2022])\n",
    "print(df)"
   ]
  },
  {
   "cell_type": "markdown",
   "metadata": {},
   "source": [
    "### emdat_countries_by_hazard()\n",
    "\n",
    "Listar los eventos correspondientes a un rango de años y una lista de países."
   ]
  },
  {
   "cell_type": "code",
   "execution_count": 20,
   "metadata": {},
   "outputs": [
    {
     "name": "stdout",
     "output_type": "stream",
     "text": [
      "['Chile']\n",
      "['CHL']\n"
     ]
    }
   ],
   "source": [
    "\"\"\"emdat_countries_by_hazard: get lists of countries impacted by tropical cyclones from 2010 to 2019\"\"\"\n",
    "\n",
    "iso3_codes, country_names = emdat_countries_by_hazard(emdat_file_path, hazard='Earthquake', year_range=(2010, 2019))\n",
    "\n",
    "print(country_names)\n",
    "print(iso3_codes)"
   ]
  },
  {
   "cell_type": "markdown",
   "metadata": {},
   "source": [
    "### emdat_to_impact()\n",
    "\n",
    "Función que carga EM-DAT y retorna el impacto por evento o agregado."
   ]
  },
  {
   "cell_type": "code",
   "execution_count": 30,
   "metadata": {},
   "outputs": [
    {
     "name": "stdout",
     "output_type": "stream",
     "text": [
      "Número de terremotos en EM-DAT en Chile 2000 - 2021 8\n",
      "Promedio anual de daño monetario (AAI) por terremotos en EM-DAT 2000 a 2020: USD billion 1.48\n"
     ]
    }
   ],
   "source": [
    "\"\"\"Terremotos desde  2000 a 2021\"\"\"\n",
    "\n",
    "impact_emdat, countries = emdat_to_impact(emdat_file_path, 'Earthquake', year_range=(2000,2021))\n",
    "\n",
    "print('Número de terremotos en EM-DAT en Chile 2000 - 2021 %i' %(impact_emdat.event_id.size))\n",
    "print('Promedio anual de daño monetario (AAI) por terremotos en EM-DAT 2000 a 2020: USD billion %2.2f' \\\n",
    "      %(impact_emdat.aai_agg/1e9))\n"
   ]
  },
  {
   "cell_type": "code",
   "execution_count": 34,
   "metadata": {},
   "outputs": [
    {
     "name": "stdout",
     "output_type": "stream",
     "text": [
      "Número de terremotos en EM-DAT en Chile 2000 - 2021: 8\n",
      "\n",
      "Personas afectadas por terremotos en Chile 2000 - 2021 (por evento):\n",
      "[  27645.       0.   25155. 2671556.   24297.  513387.  681499.     780.]\n",
      "\n",
      "Personas afectadas por terremotos en Chile 2000 - 2021 (total):\n",
      "179287\n"
     ]
    },
    {
     "data": {
      "text/plain": [
       "Text(0, 0.5, 'Personas Afectadas')"
      ]
     },
     "execution_count": 34,
     "metadata": {},
     "output_type": "execute_result"
    },
    {
     "data": {
      "image/png": "[encoded data removed]",
      "text/plain": [
       "<Figure size 432x288 with 1 Axes>"
      ]
     },
     "metadata": {
      "needs_background": "light"
     },
     "output_type": "display_data"
    }
   ],
   "source": [
    "\"\"\"Total personas afectadas por terremoto en Chile 2000 - 2021:\"\"\"\n",
    "\n",
    "#np.set_printoptions(supress=True) \n",
    "\n",
    "np.set_printoptions(suppress=True)\n",
    "\n",
    "# People affected\n",
    "impact_emdat_CHL, countries = emdat_to_impact(emdat_file_path, 'Earthquake', countries='Chile', \\\n",
    "                                    year_range=(2000,2021), imp_str=\"Total Affected\")\n",
    "\n",
    "print('Número de terremotos en EM-DAT en Chile 2000 - 2021: %i' \\\n",
    "      %(impact_emdat_CHL.event_id.size))\n",
    "print('\\nPersonas afectadas por terremotos en Chile 2000 - 2021 (por evento):')\n",
    "print(impact_emdat_CHL.at_event)\n",
    "print('\\nPersonas afectadas por terremotos en Chile 2000 - 2021 (total):')\n",
    "print(int(impact_emdat_CHL.aai_agg))\n",
    "#\"Risk measurement as average annual impact aggregated.\n",
    "\n",
    "# Comparison to monetary damages:\n",
    "impact_emdat_CHL_USD, _ = emdat_to_impact(emdat_file_path, 'Earthquake', countries='Chile', \\\n",
    "                                    year_range=(2000,2022))\n",
    "\n",
    "ax = plt.scatter(impact_emdat_CHL_USD.at_event, impact_emdat_CHL.at_event)\n",
    "plt.title('Impacto de terremotos en Chile, 2000 - 2021')\n",
    "plt.xlabel('Daño Total [USD]')\n",
    "plt.ylabel('Personas Afectadas')\n",
    "#plt.xscale('log')\n",
    "#plt.yscale('log')"
   ]
  },
  {
   "cell_type": "code",
   "execution_count": null,
   "metadata": {},
   "outputs": [],
   "source": []
  }
 ],
 "metadata": {
  "kernelspec": {
   "display_name": "Python 3",
   "language": "python",
   "name": "python3"
  },
  "language_info": {
   "codemirror_mode": {
    "name": "ipython",
    "version": 3
   },
   "file_extension": ".py",
   "mimetype": "text/x-python",
   "name": "python",
   "nbconvert_exporter": "python",
   "pygments_lexer": "ipython3",
   "version": "3.8.11"
  }
 },
 "nbformat": 4,
 "nbformat_minor": 2
}
